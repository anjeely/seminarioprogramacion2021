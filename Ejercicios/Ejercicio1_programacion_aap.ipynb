{
 "cells": [
  {
   "cell_type": "markdown",
   "metadata": {},
   "source": [
    "## Ejercicio 1: Clase Humano\n",
    "### Seminario de Programación \n",
    "### Anjely Amazo Pérez"
   ]
  },
  {
   "cell_type": "code",
   "execution_count": 10,
   "metadata": {},
   "outputs": [],
   "source": [
    "\n",
    "class Humano(): #Creamos la clase Humano\n",
    "    def __init__(self, edad, nombre, ocupacion,horas_laboradas): #Definimos el parámetro edad , nombre, ocupacion y horas laboradas\n",
    "        self.edad = edad # Definimos que el atributo edad, sera la edad asignada\n",
    "        self.nombre = nombre # Definimos que el atributo nombre, sera el nombre asignado\n",
    "        self.ocupacion = ocupacion #Definimos que el atributo ocupacion, sera la ocupacion asignada\n",
    "        self.horas=horas_laboradas #Definimos horas_laboradas \n",
    "        self.dia=0 #Iniciamos en el día 0\n",
    "        \n",
    "        \n",
    "        \n",
    "        #Creación de un nuevo método llamado presentar\n",
    "    def presentar(self):\n",
    "        presentacion = (\"Hola soy {name}, mi edad es {age}, mi ocupación es {ocu} y actualmente trabajo {tiempo} horas.\") #Mensaje\n",
    "        print(presentacion.format(name=self.nombre, age=self.edad, ocu=self.ocupacion , tiempo=self.horas)) #Usamos FORMAT\n",
    "        \n",
    "        #Creación de un segundo método llamado dias_trasncurridos\n",
    "    def dias_transcurridos(self,n):\n",
    "        if self.ocupacion!= 'Desocupado':\n",
    "            self.dia=self.dia+n\n",
    "            self.horas=self.horas+n*8\n",
    "            print('Has trabajado',self.horas,'horas')\n",
    "        else:\n",
    "            self.dia=self.dia+n\n",
    "            print('Desde el día 0, han transcurrido',self.dia,'días que llevas sin trabajar' )\n",
    "        \n",
    "        #Creamos un tercer método llamado anio_nacimiento:\n",
    "    def anio_nacimiento(self):\n",
    "        self.anio=2021-self.edad\n",
    "        print('Tu año de nacimiento fue:', self.anio )\n",
    "        \n",
    "        #Creamos un cuarto método llamado pesion suponiendo que la edad para pensionarse para todos es 75:\n",
    "    def pension(self):\n",
    "        self.pen=75-self.edad\n",
    "        print('Te hacen falta ', self.pen , ' años para pensionarte')\n",
    "        \n",
    "        #Creamos un quinto método indicado dependiendo de la edad las horas que se deben dormir por día\n",
    "    def dormir(self):\n",
    "        if self.edad < 15:\n",
    "            self.suenio=10\n",
    "        else:\n",
    "            self.suenio=8\n",
    "        print('Debes dormir', self.suenio , 'horas')\n",
    "        \n",
    "            #Creamos un sexto método indicado la cantidad de horas de ejercicio que debe hacer a la semana \n",
    "    def ejercicio(self):\n",
    "        if self.edad < 15:\n",
    "            self.ejer=30*5\n",
    "        else:\n",
    "            self.ejer=60*5\n",
    "        print('Debes ejercitarte', self.ejer , 'minutos a la semana')\n",
    "    \n",
    "        \n"
   ]
  },
  {
   "cell_type": "code",
   "execution_count": null,
   "metadata": {},
   "outputs": [],
   "source": [
    "Persona1 = Humano(31, \"Pedro\", \"Desocupado\",400) "
   ]
  },
  {
   "cell_type": "code",
   "execution_count": 11,
   "metadata": {},
   "outputs": [
    {
     "name": "stdout",
     "output_type": "stream",
     "text": [
      "Hola soy Pedro, mi edad es 31, mi ocupación es Desocupado y actualmente trabajo 400 horas.\n"
     ]
    }
   ],
   "source": [
    "Persona1.presentar() "
   ]
  },
  {
   "cell_type": "code",
   "execution_count": 11,
   "metadata": {},
   "outputs": [
    {
     "name": "stdout",
     "output_type": "stream",
     "text": [
      "Desde el día 0, han transcurrido 5 días\n"
     ]
    }
   ],
   "source": [
    "Persona1.dias_transcurridos(5)"
   ]
  },
  {
   "cell_type": "code",
   "execution_count": 12,
   "metadata": {},
   "outputs": [
    {
     "name": "stdout",
     "output_type": "stream",
     "text": [
      "Feliz cumpleaños te deseamos a ti, Pedro\n"
     ]
    }
   ],
   "source": [
    "Persona1.cumplio_anios()"
   ]
  },
  {
   "cell_type": "code",
   "execution_count": 61,
   "metadata": {},
   "outputs": [
    {
     "name": "stdout",
     "output_type": "stream",
     "text": [
      "Tu año de nacimiento fue: 1990\n"
     ]
    }
   ],
   "source": [
    "Persona1.anio_nacimiento()"
   ]
  },
  {
   "cell_type": "code",
   "execution_count": 3,
   "metadata": {},
   "outputs": [
    {
     "name": "stdout",
     "output_type": "stream",
     "text": [
      "Te hacen falta  44  años para pensionarte\n"
     ]
    }
   ],
   "source": [
    "Persona1.pension()"
   ]
  },
  {
   "cell_type": "code",
   "execution_count": 9,
   "metadata": {},
   "outputs": [
    {
     "name": "stdout",
     "output_type": "stream",
     "text": [
      "Debes dormir 8  horas\n"
     ]
    }
   ],
   "source": [
    "Persona1.dormir()"
   ]
  },
  {
   "cell_type": "code",
   "execution_count": 12,
   "metadata": {},
   "outputs": [
    {
     "name": "stdout",
     "output_type": "stream",
     "text": [
      "Debes ejercitarte 300 minutos a la semana\n"
     ]
    }
   ],
   "source": [
    "Persona1.ejercicio()"
   ]
  },
  {
   "cell_type": "code",
   "execution_count": null,
   "metadata": {},
   "outputs": [],
   "source": []
  }
 ],
 "metadata": {
  "kernelspec": {
   "display_name": "Python 3",
   "language": "python",
   "name": "python3"
  },
  "language_info": {
   "codemirror_mode": {
    "name": "ipython",
    "version": 3
   },
   "file_extension": ".py",
   "mimetype": "text/x-python",
   "name": "python",
   "nbconvert_exporter": "python",
   "pygments_lexer": "ipython3",
   "version": "3.8.5"
  }
 },
 "nbformat": 4,
 "nbformat_minor": 4
}
