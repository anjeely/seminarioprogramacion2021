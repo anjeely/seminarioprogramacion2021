{
 "cells": [
  {
   "cell_type": "markdown",
   "metadata": {},
   "source": [
    "## Ejercicio 2 : Pandas \n",
    "\n",
    "### Seminario de Programación \n",
    "\n",
    "### Anjely Amazo"
   ]
  },
  {
   "cell_type": "markdown",
   "metadata": {},
   "source": [
    "Iniciamos corriendo las librerías necesarias para poder ejecutar los ejercicios"
   ]
  },
  {
   "cell_type": "code",
   "execution_count": 33,
   "metadata": {},
   "outputs": [],
   "source": [
    "import pandas as pd\n",
    "import numpy as np\n",
    "import matplotlib.pyplot as plt\n",
    "import os\n",
    "import seaborn as sns"
   ]
  },
  {
   "cell_type": "markdown",
   "metadata": {},
   "source": [
    "### Ejercicio 1\n",
    "Determinar los percentiles 25, 50 y 75 para las columnas ttomou, totrev, eqpdays"
   ]
  },
  {
   "cell_type": "code",
   "execution_count": 2,
   "metadata": {
    "scrolled": true
   },
   "outputs": [
    {
     "data": {
      "text/html": [
       "<div>\n",
       "<style scoped>\n",
       "    .dataframe tbody tr th:only-of-type {\n",
       "        vertical-align: middle;\n",
       "    }\n",
       "\n",
       "    .dataframe tbody tr th {\n",
       "        vertical-align: top;\n",
       "    }\n",
       "\n",
       "    .dataframe thead th {\n",
       "        text-align: right;\n",
       "    }\n",
       "</style>\n",
       "<table border=\"1\" class=\"dataframe\">\n",
       "  <thead>\n",
       "    <tr style=\"text-align: right;\">\n",
       "      <th></th>\n",
       "      <th>totmou</th>\n",
       "      <th>totrev</th>\n",
       "      <th>creditcd</th>\n",
       "      <th>eqpdays</th>\n",
       "    </tr>\n",
       "    <tr>\n",
       "      <th>Customer_ID</th>\n",
       "      <th></th>\n",
       "      <th></th>\n",
       "      <th></th>\n",
       "      <th></th>\n",
       "    </tr>\n",
       "  </thead>\n",
       "  <tbody>\n",
       "    <tr>\n",
       "      <th>1082423</th>\n",
       "      <td>7269.0</td>\n",
       "      <td>906.58</td>\n",
       "      <td>Y</td>\n",
       "      <td>371</td>\n",
       "    </tr>\n",
       "    <tr>\n",
       "      <th>1069232</th>\n",
       "      <td>13552.0</td>\n",
       "      <td>1172.25</td>\n",
       "      <td>N</td>\n",
       "      <td>83</td>\n",
       "    </tr>\n",
       "    <tr>\n",
       "      <th>1031705</th>\n",
       "      <td>4152.0</td>\n",
       "      <td>577.39</td>\n",
       "      <td>Y</td>\n",
       "      <td>675</td>\n",
       "    </tr>\n",
       "    <tr>\n",
       "      <th>1089806</th>\n",
       "      <td>1863.0</td>\n",
       "      <td>294.26</td>\n",
       "      <td>Y</td>\n",
       "      <td>218</td>\n",
       "    </tr>\n",
       "    <tr>\n",
       "      <th>1076695</th>\n",
       "      <td>4155.0</td>\n",
       "      <td>433.16</td>\n",
       "      <td>N</td>\n",
       "      <td>222</td>\n",
       "    </tr>\n",
       "    <tr>\n",
       "      <th>...</th>\n",
       "      <td>...</td>\n",
       "      <td>...</td>\n",
       "      <td>...</td>\n",
       "      <td>...</td>\n",
       "    </tr>\n",
       "    <tr>\n",
       "      <th>1027614</th>\n",
       "      <td>2570.0</td>\n",
       "      <td>484.31</td>\n",
       "      <td>Y</td>\n",
       "      <td>611</td>\n",
       "    </tr>\n",
       "    <tr>\n",
       "      <th>1098422</th>\n",
       "      <td>2105.0</td>\n",
       "      <td>583.36</td>\n",
       "      <td>Y</td>\n",
       "      <td>1243</td>\n",
       "    </tr>\n",
       "    <tr>\n",
       "      <th>1096497</th>\n",
       "      <td>3690.0</td>\n",
       "      <td>294.29</td>\n",
       "      <td>Y</td>\n",
       "      <td>212</td>\n",
       "    </tr>\n",
       "    <tr>\n",
       "      <th>1087248</th>\n",
       "      <td>3333.0</td>\n",
       "      <td>233.08</td>\n",
       "      <td>Y</td>\n",
       "      <td>290</td>\n",
       "    </tr>\n",
       "    <tr>\n",
       "      <th>1099003</th>\n",
       "      <td>5025.0</td>\n",
       "      <td>1436.49</td>\n",
       "      <td>Y</td>\n",
       "      <td>1029</td>\n",
       "    </tr>\n",
       "  </tbody>\n",
       "</table>\n",
       "<p>10000 rows × 4 columns</p>\n",
       "</div>"
      ],
      "text/plain": [
       "              totmou   totrev creditcd  eqpdays\n",
       "Customer_ID                                    \n",
       "1082423       7269.0   906.58        Y      371\n",
       "1069232      13552.0  1172.25        N       83\n",
       "1031705       4152.0   577.39        Y      675\n",
       "1089806       1863.0   294.26        Y      218\n",
       "1076695       4155.0   433.16        N      222\n",
       "...              ...      ...      ...      ...\n",
       "1027614       2570.0   484.31        Y      611\n",
       "1098422       2105.0   583.36        Y     1243\n",
       "1096497       3690.0   294.29        Y      212\n",
       "1087248       3333.0   233.08        Y      290\n",
       "1099003       5025.0  1436.49        Y     1029\n",
       "\n",
       "[10000 rows x 4 columns]"
      ]
     },
     "execution_count": 2,
     "metadata": {},
     "output_type": "execute_result"
    }
   ],
   "source": [
    "#Leemos la base de datos que vamos a usar para el analisis\n",
    "df=pd.read_csv(\"Bases/Credito_dias.csv\", sep=\",\",index_col=\"Customer_ID\")\n",
    "df"
   ]
  },
  {
   "cell_type": "markdown",
   "metadata": {},
   "source": [
    "Calculamos para las tres variables el percentil 25"
   ]
  },
  {
   "cell_type": "markdown",
   "metadata": {},
   "source": [
    "Variable totmou"
   ]
  },
  {
   "cell_type": "code",
   "execution_count": 3,
   "metadata": {},
   "outputs": [
    {
     "data": {
      "text/plain": [
       "9823.25"
      ]
     },
     "execution_count": 3,
     "metadata": {},
     "output_type": "execute_result"
    }
   ],
   "source": [
    "p25_totmou = df[\"totmou\"].quantile(0.75)\n",
    "p25_totmou"
   ]
  },
  {
   "cell_type": "markdown",
   "metadata": {},
   "source": [
    "Variable totrev"
   ]
  },
  {
   "cell_type": "code",
   "execution_count": 4,
   "metadata": {},
   "outputs": [
    {
     "data": {
      "text/plain": [
       "1272.975"
      ]
     },
     "execution_count": 4,
     "metadata": {},
     "output_type": "execute_result"
    }
   ],
   "source": [
    "p25_totrev = df[\"totrev\"].quantile(0.75)\n",
    "p25_totrev"
   ]
  },
  {
   "cell_type": "markdown",
   "metadata": {},
   "source": [
    "Variable eqpdays"
   ]
  },
  {
   "cell_type": "code",
   "execution_count": 5,
   "metadata": {},
   "outputs": [
    {
     "data": {
      "text/plain": [
       "522.0"
      ]
     },
     "execution_count": 5,
     "metadata": {},
     "output_type": "execute_result"
    }
   ],
   "source": [
    "p25_eqpdays = df[\"eqpdays\"].quantile(0.75)\n",
    "p25_eqpdays"
   ]
  },
  {
   "cell_type": "markdown",
   "metadata": {},
   "source": [
    "Calculamos para las tres variables el percentil 50"
   ]
  },
  {
   "cell_type": "markdown",
   "metadata": {},
   "source": [
    "Variable totmou"
   ]
  },
  {
   "cell_type": "code",
   "execution_count": 7,
   "metadata": {},
   "outputs": [
    {
     "data": {
      "text/plain": [
       "5262.0"
      ]
     },
     "execution_count": 7,
     "metadata": {},
     "output_type": "execute_result"
    }
   ],
   "source": [
    "p50_totmou = df[\"totmou\"].quantile(0.50)\n",
    "p50_totmou"
   ]
  },
  {
   "cell_type": "markdown",
   "metadata": {},
   "source": [
    "Variable totrev"
   ]
  },
  {
   "cell_type": "code",
   "execution_count": 8,
   "metadata": {},
   "outputs": [
    {
     "data": {
      "text/plain": [
       "820.235"
      ]
     },
     "execution_count": 8,
     "metadata": {},
     "output_type": "execute_result"
    }
   ],
   "source": [
    "p50_totrev = df[\"totrev\"].quantile(0.50)\n",
    "p50_totrev"
   ]
  },
  {
   "cell_type": "markdown",
   "metadata": {},
   "source": [
    "Variable eqpdays"
   ]
  },
  {
   "cell_type": "code",
   "execution_count": 9,
   "metadata": {},
   "outputs": [
    {
     "data": {
      "text/plain": [
       "338.0"
      ]
     },
     "execution_count": 9,
     "metadata": {},
     "output_type": "execute_result"
    }
   ],
   "source": [
    "p50_eqpdays = df[\"eqpdays\"].quantile(0.50)\n",
    "p50_eqpdays"
   ]
  },
  {
   "cell_type": "markdown",
   "metadata": {},
   "source": [
    "Calculamos para las tres variables el percentil 75"
   ]
  },
  {
   "cell_type": "markdown",
   "metadata": {},
   "source": [
    "Variable totmou"
   ]
  },
  {
   "cell_type": "code",
   "execution_count": 10,
   "metadata": {},
   "outputs": [
    {
     "data": {
      "text/plain": [
       "2576.0"
      ]
     },
     "execution_count": 10,
     "metadata": {},
     "output_type": "execute_result"
    }
   ],
   "source": [
    "p75_totmou = df[\"totmou\"].quantile(0.25)\n",
    "p75_totmou"
   ]
  },
  {
   "cell_type": "markdown",
   "metadata": {},
   "source": [
    "Variable totrev"
   ]
  },
  {
   "cell_type": "code",
   "execution_count": 11,
   "metadata": {},
   "outputs": [
    {
     "data": {
      "text/plain": [
       "526.7875"
      ]
     },
     "execution_count": 11,
     "metadata": {},
     "output_type": "execute_result"
    }
   ],
   "source": [
    "p75_totrev = df[\"totrev\"].quantile(0.25)\n",
    "p75_totrev"
   ]
  },
  {
   "cell_type": "markdown",
   "metadata": {},
   "source": [
    "Variable eqpdays"
   ]
  },
  {
   "cell_type": "code",
   "execution_count": 12,
   "metadata": {},
   "outputs": [
    {
     "data": {
      "text/plain": [
       "210.0"
      ]
     },
     "execution_count": 12,
     "metadata": {},
     "output_type": "execute_result"
    }
   ],
   "source": [
    "p75_eqpdays = df[\"eqpdays\"].quantile(0.25)\n",
    "p75_eqpdays"
   ]
  },
  {
   "cell_type": "markdown",
   "metadata": {},
   "source": [
    "### Ejercicio 2  \n",
    "¿Cuáles son los 3 registros que no se incluyen en df3 ?\n"
   ]
  },
  {
   "cell_type": "markdown",
   "metadata": {},
   "source": [
    "Para poder resolver este ejercicios necesitamos hacer el cruce de información para llegar al df3"
   ]
  },
  {
   "cell_type": "code",
   "execution_count": 14,
   "metadata": {},
   "outputs": [
    {
     "name": "stdout",
     "output_type": "stream",
     "text": [
      "Definición de los símbolos de las acciones\n",
      " --- Inicie el bucle sobre los símbolos --- \n",
      "Procesando el símbolo: ATLANTIC SOUTH AREA\n",
      " --- Bucle completo sobre los símbolos --- \n",
      "\n",
      "Procesando el símbolo: CALIFORNIA NORTH AREA\n",
      " --- Bucle completo sobre los símbolos --- \n",
      "\n",
      "Procesando el símbolo: CENTRAL-SOUTH TEXAS AREA\n",
      " --- Bucle completo sobre los símbolos --- \n",
      "\n",
      "Procesando el símbolo: CHICAGO AREA\n",
      " --- Bucle completo sobre los símbolos --- \n",
      "\n",
      "Procesando el símbolo: DALLAS AREA\n",
      " --- Bucle completo sobre los símbolos --- \n",
      "\n",
      "Procesando el símbolo: DC-MARYLAND-VIRGINIA AREA\n",
      " --- Bucle completo sobre los símbolos --- \n",
      "\n",
      "Procesando el símbolo: GREAT LAKES AREA\n",
      " --- Bucle completo sobre los símbolos --- \n",
      "\n",
      "Procesando el símbolo: HOUSTON AREA\n",
      " --- Bucle completo sobre los símbolos --- \n",
      "\n",
      "Procesando el símbolo: LOS ANGELES AREA\n",
      " --- Bucle completo sobre los símbolos --- \n",
      "\n",
      "Procesando el símbolo: MIDWEST AREA\n",
      " --- Bucle completo sobre los símbolos --- \n",
      "\n",
      "Procesando el símbolo: NEW ENGLAND AREA\n",
      " --- Bucle completo sobre los símbolos --- \n",
      "\n",
      "Procesando el símbolo: NEW YORK CITY AREA\n",
      " --- Bucle completo sobre los símbolos --- \n",
      "\n",
      "Procesando el símbolo: NORTH FLORIDA AREA\n",
      " --- Bucle completo sobre los símbolos --- \n",
      "\n",
      "Procesando el símbolo: NORTHWEST-ROCKY MOUNTAIN AREA\n",
      " --- Bucle completo sobre los símbolos --- \n",
      "\n",
      "Procesando el símbolo: OHIO AREA\n",
      " --- Bucle completo sobre los símbolos --- \n",
      "\n",
      "Procesando el símbolo: PHILADELPHIA AREA\n",
      " --- Bucle completo sobre los símbolos --- \n",
      "\n",
      "Procesando el símbolo: SOUTH FLORIDA AREA\n",
      " --- Bucle completo sobre los símbolos --- \n",
      "\n",
      "Procesando el símbolo: SOUTHWEST AREA\n",
      " --- Bucle completo sobre los símbolos --- \n",
      "\n",
      "Procesando el símbolo: TENNESSEE AREA\n",
      " --- Bucle completo sobre los símbolos --- \n",
      "\n",
      "Agregando los datos\n",
      "(9997, 4)\n",
      "Cabeza del DataFrame agr_df: \n"
     ]
    },
    {
     "data": {
      "text/html": [
       "<div>\n",
       "<style scoped>\n",
       "    .dataframe tbody tr th:only-of-type {\n",
       "        vertical-align: middle;\n",
       "    }\n",
       "\n",
       "    .dataframe tbody tr th {\n",
       "        vertical-align: top;\n",
       "    }\n",
       "\n",
       "    .dataframe thead th {\n",
       "        text-align: right;\n",
       "    }\n",
       "</style>\n",
       "<table border=\"1\" class=\"dataframe\">\n",
       "  <thead>\n",
       "    <tr style=\"text-align: right;\">\n",
       "      <th></th>\n",
       "      <th>custcare_Mean</th>\n",
       "      <th>new_cell</th>\n",
       "      <th>area</th>\n",
       "      <th>creditcd</th>\n",
       "    </tr>\n",
       "    <tr>\n",
       "      <th>Customer_ID</th>\n",
       "      <th></th>\n",
       "      <th></th>\n",
       "      <th></th>\n",
       "      <th></th>\n",
       "    </tr>\n",
       "  </thead>\n",
       "  <tbody>\n",
       "    <tr>\n",
       "      <th>1069232</th>\n",
       "      <td>3.666667</td>\n",
       "      <td>U</td>\n",
       "      <td>ATLANTIC SOUTH AREA</td>\n",
       "      <td>N</td>\n",
       "    </tr>\n",
       "    <tr>\n",
       "      <th>1043846</th>\n",
       "      <td>0.000000</td>\n",
       "      <td>U</td>\n",
       "      <td>ATLANTIC SOUTH AREA</td>\n",
       "      <td>Y</td>\n",
       "    </tr>\n",
       "    <tr>\n",
       "      <th>1008539</th>\n",
       "      <td>0.000000</td>\n",
       "      <td>N</td>\n",
       "      <td>ATLANTIC SOUTH AREA</td>\n",
       "      <td>Y</td>\n",
       "    </tr>\n",
       "    <tr>\n",
       "      <th>1068315</th>\n",
       "      <td>0.000000</td>\n",
       "      <td>U</td>\n",
       "      <td>ATLANTIC SOUTH AREA</td>\n",
       "      <td>N</td>\n",
       "    </tr>\n",
       "    <tr>\n",
       "      <th>1074220</th>\n",
       "      <td>1.666667</td>\n",
       "      <td>U</td>\n",
       "      <td>ATLANTIC SOUTH AREA</td>\n",
       "      <td>N</td>\n",
       "    </tr>\n",
       "  </tbody>\n",
       "</table>\n",
       "</div>"
      ],
      "text/plain": [
       "             custcare_Mean new_cell                 area creditcd\n",
       "Customer_ID                                                      \n",
       "1069232           3.666667        U  ATLANTIC SOUTH AREA        N\n",
       "1043846           0.000000        U  ATLANTIC SOUTH AREA        Y\n",
       "1008539           0.000000        N  ATLANTIC SOUTH AREA        Y\n",
       "1068315           0.000000        U  ATLANTIC SOUTH AREA        N\n",
       "1074220           1.666667        U  ATLANTIC SOUTH AREA        N"
      ]
     },
     "execution_count": 14,
     "metadata": {},
     "output_type": "execute_result"
    }
   ],
   "source": [
    "print(\"Definición de los símbolos de las acciones\")\n",
    "areas = ['ATLANTIC SOUTH AREA',\n",
    " 'CALIFORNIA NORTH AREA',\n",
    " 'CENTRAL-SOUTH TEXAS AREA',\n",
    " 'CHICAGO AREA',\n",
    " 'DALLAS AREA',\n",
    " 'DC-MARYLAND-VIRGINIA AREA',\n",
    " 'GREAT LAKES AREA',\n",
    " 'HOUSTON AREA',\n",
    " 'LOS ANGELES AREA',\n",
    " 'MIDWEST AREA',\n",
    " 'NEW ENGLAND AREA',\n",
    " 'NEW YORK CITY AREA',\n",
    " 'NORTH FLORIDA AREA',\n",
    " 'NORTHWEST-ROCKY MOUNTAIN AREA',\n",
    " 'OHIO AREA',\n",
    " 'PHILADELPHIA AREA',\n",
    " 'SOUTH FLORIDA AREA',\n",
    " 'SOUTHWEST AREA',\n",
    " 'TENNESSEE AREA']\n",
    "lista_de_df = []\n",
    "# Bucle sobre los símbolos\n",
    "print(\" --- Inicie el bucle sobre los símbolos --- \")\n",
    "for i in areas:\n",
    "    print(\"Procesando el símbolo: \" + i)\n",
    "    temp_df = pd.read_csv(\"Bases/\" + i + \".csv\",index_col=\"Customer_ID\")\n",
    "    temp_df[\"area\"] = i\n",
    "    lista_de_df.append(temp_df)\n",
    "    # Usando un salto de línea al final de esta cadena de caracteres por estética\n",
    "    print(\" --- Bucle completo sobre los símbolos --- \\n\")\n",
    "    # Combinando en un solo DataFrame usando el concat\n",
    "print(\"Agregando los datos\")\n",
    "agr_df = pd.concat(lista_de_df, axis=0)\n",
    "print(agr_df.shape)\n",
    "print(\"Cabeza del DataFrame agr_df: \")\n",
    "agr_df.head()"
   ]
  },
  {
   "cell_type": "code",
   "execution_count": 15,
   "metadata": {},
   "outputs": [
    {
     "data": {
      "text/html": [
       "<div>\n",
       "<style scoped>\n",
       "    .dataframe tbody tr th:only-of-type {\n",
       "        vertical-align: middle;\n",
       "    }\n",
       "\n",
       "    .dataframe tbody tr th {\n",
       "        vertical-align: top;\n",
       "    }\n",
       "\n",
       "    .dataframe thead th {\n",
       "        text-align: right;\n",
       "    }\n",
       "</style>\n",
       "<table border=\"1\" class=\"dataframe\">\n",
       "  <thead>\n",
       "    <tr style=\"text-align: right;\">\n",
       "      <th></th>\n",
       "      <th>custcare_Mean</th>\n",
       "      <th>new_cell</th>\n",
       "      <th>area</th>\n",
       "      <th>creditcd</th>\n",
       "    </tr>\n",
       "    <tr>\n",
       "      <th>Customer_ID</th>\n",
       "      <th></th>\n",
       "      <th></th>\n",
       "      <th></th>\n",
       "      <th></th>\n",
       "    </tr>\n",
       "  </thead>\n",
       "  <tbody>\n",
       "    <tr>\n",
       "      <th>1000014</th>\n",
       "      <td>0.000000</td>\n",
       "      <td>Y</td>\n",
       "      <td>CENTRAL-SOUTH TEXAS AREA</td>\n",
       "      <td>N</td>\n",
       "    </tr>\n",
       "    <tr>\n",
       "      <th>1000016</th>\n",
       "      <td>1.000000</td>\n",
       "      <td>N</td>\n",
       "      <td>DALLAS AREA</td>\n",
       "      <td>Y</td>\n",
       "    </tr>\n",
       "    <tr>\n",
       "      <th>1000021</th>\n",
       "      <td>0.333333</td>\n",
       "      <td>U</td>\n",
       "      <td>TENNESSEE AREA</td>\n",
       "      <td>Y</td>\n",
       "    </tr>\n",
       "    <tr>\n",
       "      <th>1000023</th>\n",
       "      <td>0.000000</td>\n",
       "      <td>N</td>\n",
       "      <td>NORTHWEST-ROCKY MOUNTAIN AREA</td>\n",
       "      <td>N</td>\n",
       "    </tr>\n",
       "    <tr>\n",
       "      <th>1000029</th>\n",
       "      <td>0.000000</td>\n",
       "      <td>N</td>\n",
       "      <td>NEW ENGLAND AREA</td>\n",
       "      <td>Y</td>\n",
       "    </tr>\n",
       "    <tr>\n",
       "      <th>...</th>\n",
       "      <td>...</td>\n",
       "      <td>...</td>\n",
       "      <td>...</td>\n",
       "      <td>...</td>\n",
       "    </tr>\n",
       "    <tr>\n",
       "      <th>1099907</th>\n",
       "      <td>17.333333</td>\n",
       "      <td>U</td>\n",
       "      <td>LOS ANGELES AREA</td>\n",
       "      <td>Y</td>\n",
       "    </tr>\n",
       "    <tr>\n",
       "      <th>1099932</th>\n",
       "      <td>0.000000</td>\n",
       "      <td>U</td>\n",
       "      <td>LOS ANGELES AREA</td>\n",
       "      <td>Y</td>\n",
       "    </tr>\n",
       "    <tr>\n",
       "      <th>1099963</th>\n",
       "      <td>0.000000</td>\n",
       "      <td>U</td>\n",
       "      <td>SOUTHWEST AREA</td>\n",
       "      <td>Y</td>\n",
       "    </tr>\n",
       "    <tr>\n",
       "      <th>1099981</th>\n",
       "      <td>0.333333</td>\n",
       "      <td>U</td>\n",
       "      <td>SOUTHWEST AREA</td>\n",
       "      <td>NaN</td>\n",
       "    </tr>\n",
       "    <tr>\n",
       "      <th>1099992</th>\n",
       "      <td>0.000000</td>\n",
       "      <td>Y</td>\n",
       "      <td>LOS ANGELES AREA</td>\n",
       "      <td>Y</td>\n",
       "    </tr>\n",
       "  </tbody>\n",
       "</table>\n",
       "<p>9997 rows × 4 columns</p>\n",
       "</div>"
      ],
      "text/plain": [
       "             custcare_Mean new_cell                           area creditcd\n",
       "Customer_ID                                                                \n",
       "1000014           0.000000        Y       CENTRAL-SOUTH TEXAS AREA        N\n",
       "1000016           1.000000        N                    DALLAS AREA        Y\n",
       "1000021           0.333333        U                 TENNESSEE AREA        Y\n",
       "1000023           0.000000        N  NORTHWEST-ROCKY MOUNTAIN AREA        N\n",
       "1000029           0.000000        N               NEW ENGLAND AREA        Y\n",
       "...                    ...      ...                            ...      ...\n",
       "1099907          17.333333        U               LOS ANGELES AREA        Y\n",
       "1099932           0.000000        U               LOS ANGELES AREA        Y\n",
       "1099963           0.000000        U                 SOUTHWEST AREA        Y\n",
       "1099981           0.333333        U                 SOUTHWEST AREA      NaN\n",
       "1099992           0.000000        Y               LOS ANGELES AREA        Y\n",
       "\n",
       "[9997 rows x 4 columns]"
      ]
     },
     "execution_count": 15,
     "metadata": {},
     "output_type": "execute_result"
    }
   ],
   "source": [
    "agr_df.sort_index(axis=0,inplace=True)\n",
    "agr_df"
   ]
  },
  {
   "cell_type": "markdown",
   "metadata": {},
   "source": [
    "A continuacion tenemos el Inner entre las dos bases "
   ]
  },
  {
   "cell_type": "code",
   "execution_count": 16,
   "metadata": {},
   "outputs": [
    {
     "data": {
      "text/html": [
       "<div>\n",
       "<style scoped>\n",
       "    .dataframe tbody tr th:only-of-type {\n",
       "        vertical-align: middle;\n",
       "    }\n",
       "\n",
       "    .dataframe tbody tr th {\n",
       "        vertical-align: top;\n",
       "    }\n",
       "\n",
       "    .dataframe thead th {\n",
       "        text-align: right;\n",
       "    }\n",
       "</style>\n",
       "<table border=\"1\" class=\"dataframe\">\n",
       "  <thead>\n",
       "    <tr style=\"text-align: right;\">\n",
       "      <th></th>\n",
       "      <th>totmou</th>\n",
       "      <th>totrev</th>\n",
       "      <th>creditcd_x</th>\n",
       "      <th>eqpdays</th>\n",
       "      <th>custcare_Mean</th>\n",
       "      <th>new_cell</th>\n",
       "      <th>area</th>\n",
       "      <th>creditcd_y</th>\n",
       "    </tr>\n",
       "    <tr>\n",
       "      <th>Customer_ID</th>\n",
       "      <th></th>\n",
       "      <th></th>\n",
       "      <th></th>\n",
       "      <th></th>\n",
       "      <th></th>\n",
       "      <th></th>\n",
       "      <th></th>\n",
       "      <th></th>\n",
       "    </tr>\n",
       "  </thead>\n",
       "  <tbody>\n",
       "    <tr>\n",
       "      <th>1082423</th>\n",
       "      <td>7269.0</td>\n",
       "      <td>906.58</td>\n",
       "      <td>Y</td>\n",
       "      <td>371</td>\n",
       "      <td>14.333333</td>\n",
       "      <td>U</td>\n",
       "      <td>NEW ENGLAND AREA</td>\n",
       "      <td>Y</td>\n",
       "    </tr>\n",
       "    <tr>\n",
       "      <th>1069232</th>\n",
       "      <td>13552.0</td>\n",
       "      <td>1172.25</td>\n",
       "      <td>N</td>\n",
       "      <td>83</td>\n",
       "      <td>3.666667</td>\n",
       "      <td>U</td>\n",
       "      <td>ATLANTIC SOUTH AREA</td>\n",
       "      <td>N</td>\n",
       "    </tr>\n",
       "    <tr>\n",
       "      <th>1031705</th>\n",
       "      <td>4152.0</td>\n",
       "      <td>577.39</td>\n",
       "      <td>Y</td>\n",
       "      <td>675</td>\n",
       "      <td>3.000000</td>\n",
       "      <td>U</td>\n",
       "      <td>NEW YORK CITY AREA</td>\n",
       "      <td>Y</td>\n",
       "    </tr>\n",
       "    <tr>\n",
       "      <th>1089806</th>\n",
       "      <td>1863.0</td>\n",
       "      <td>294.26</td>\n",
       "      <td>Y</td>\n",
       "      <td>218</td>\n",
       "      <td>11.000000</td>\n",
       "      <td>U</td>\n",
       "      <td>CHICAGO AREA</td>\n",
       "      <td>Y</td>\n",
       "    </tr>\n",
       "    <tr>\n",
       "      <th>1076695</th>\n",
       "      <td>4155.0</td>\n",
       "      <td>433.16</td>\n",
       "      <td>N</td>\n",
       "      <td>222</td>\n",
       "      <td>0.000000</td>\n",
       "      <td>U</td>\n",
       "      <td>NORTH FLORIDA AREA</td>\n",
       "      <td>N</td>\n",
       "    </tr>\n",
       "    <tr>\n",
       "      <th>...</th>\n",
       "      <td>...</td>\n",
       "      <td>...</td>\n",
       "      <td>...</td>\n",
       "      <td>...</td>\n",
       "      <td>...</td>\n",
       "      <td>...</td>\n",
       "      <td>...</td>\n",
       "      <td>...</td>\n",
       "    </tr>\n",
       "    <tr>\n",
       "      <th>1027614</th>\n",
       "      <td>2570.0</td>\n",
       "      <td>484.31</td>\n",
       "      <td>Y</td>\n",
       "      <td>611</td>\n",
       "      <td>0.666667</td>\n",
       "      <td>U</td>\n",
       "      <td>CHICAGO AREA</td>\n",
       "      <td>Y</td>\n",
       "    </tr>\n",
       "    <tr>\n",
       "      <th>1098422</th>\n",
       "      <td>2105.0</td>\n",
       "      <td>583.36</td>\n",
       "      <td>Y</td>\n",
       "      <td>1243</td>\n",
       "      <td>0.000000</td>\n",
       "      <td>U</td>\n",
       "      <td>SOUTHWEST AREA</td>\n",
       "      <td>Y</td>\n",
       "    </tr>\n",
       "    <tr>\n",
       "      <th>1096497</th>\n",
       "      <td>3690.0</td>\n",
       "      <td>294.29</td>\n",
       "      <td>Y</td>\n",
       "      <td>212</td>\n",
       "      <td>0.666667</td>\n",
       "      <td>Y</td>\n",
       "      <td>NEW ENGLAND AREA</td>\n",
       "      <td>Y</td>\n",
       "    </tr>\n",
       "    <tr>\n",
       "      <th>1087248</th>\n",
       "      <td>3333.0</td>\n",
       "      <td>233.08</td>\n",
       "      <td>Y</td>\n",
       "      <td>290</td>\n",
       "      <td>0.000000</td>\n",
       "      <td>U</td>\n",
       "      <td>CALIFORNIA NORTH AREA</td>\n",
       "      <td>Y</td>\n",
       "    </tr>\n",
       "    <tr>\n",
       "      <th>1099003</th>\n",
       "      <td>5025.0</td>\n",
       "      <td>1436.49</td>\n",
       "      <td>Y</td>\n",
       "      <td>1029</td>\n",
       "      <td>0.333333</td>\n",
       "      <td>U</td>\n",
       "      <td>LOS ANGELES AREA</td>\n",
       "      <td>Y</td>\n",
       "    </tr>\n",
       "  </tbody>\n",
       "</table>\n",
       "<p>9997 rows × 8 columns</p>\n",
       "</div>"
      ],
      "text/plain": [
       "              totmou   totrev creditcd_x  eqpdays  custcare_Mean new_cell  \\\n",
       "Customer_ID                                                                 \n",
       "1082423       7269.0   906.58          Y      371      14.333333        U   \n",
       "1069232      13552.0  1172.25          N       83       3.666667        U   \n",
       "1031705       4152.0   577.39          Y      675       3.000000        U   \n",
       "1089806       1863.0   294.26          Y      218      11.000000        U   \n",
       "1076695       4155.0   433.16          N      222       0.000000        U   \n",
       "...              ...      ...        ...      ...            ...      ...   \n",
       "1027614       2570.0   484.31          Y      611       0.666667        U   \n",
       "1098422       2105.0   583.36          Y     1243       0.000000        U   \n",
       "1096497       3690.0   294.29          Y      212       0.666667        Y   \n",
       "1087248       3333.0   233.08          Y      290       0.000000        U   \n",
       "1099003       5025.0  1436.49          Y     1029       0.333333        U   \n",
       "\n",
       "                              area creditcd_y  \n",
       "Customer_ID                                    \n",
       "1082423           NEW ENGLAND AREA          Y  \n",
       "1069232        ATLANTIC SOUTH AREA          N  \n",
       "1031705         NEW YORK CITY AREA          Y  \n",
       "1089806               CHICAGO AREA          Y  \n",
       "1076695         NORTH FLORIDA AREA          N  \n",
       "...                            ...        ...  \n",
       "1027614               CHICAGO AREA          Y  \n",
       "1098422             SOUTHWEST AREA          Y  \n",
       "1096497           NEW ENGLAND AREA          Y  \n",
       "1087248      CALIFORNIA NORTH AREA          Y  \n",
       "1099003           LOS ANGELES AREA          Y  \n",
       "\n",
       "[9997 rows x 8 columns]"
      ]
     },
     "execution_count": 16,
     "metadata": {},
     "output_type": "execute_result"
    }
   ],
   "source": [
    "df3=df.merge(agr_df,left_index=True,right_index=True,how=\"inner\")\n",
    "df3"
   ]
  },
  {
   "cell_type": "markdown",
   "metadata": {},
   "source": [
    "Y queremos saber cuales fueron los tres registros de nuestra primera base que no cruzaron"
   ]
  },
  {
   "cell_type": "code",
   "execution_count": 20,
   "metadata": {},
   "outputs": [
    {
     "data": {
      "text/plain": [
       "array([ True,  True,  True, ...,  True,  True,  True])"
      ]
     },
     "execution_count": 20,
     "metadata": {},
     "output_type": "execute_result"
    }
   ],
   "source": [
    "df.index.isin(df3.index)"
   ]
  },
  {
   "cell_type": "code",
   "execution_count": 21,
   "metadata": {},
   "outputs": [
    {
     "data": {
      "text/html": [
       "<div>\n",
       "<style scoped>\n",
       "    .dataframe tbody tr th:only-of-type {\n",
       "        vertical-align: middle;\n",
       "    }\n",
       "\n",
       "    .dataframe tbody tr th {\n",
       "        vertical-align: top;\n",
       "    }\n",
       "\n",
       "    .dataframe thead th {\n",
       "        text-align: right;\n",
       "    }\n",
       "</style>\n",
       "<table border=\"1\" class=\"dataframe\">\n",
       "  <thead>\n",
       "    <tr style=\"text-align: right;\">\n",
       "      <th></th>\n",
       "      <th>totmou</th>\n",
       "      <th>totrev</th>\n",
       "      <th>creditcd</th>\n",
       "      <th>eqpdays</th>\n",
       "    </tr>\n",
       "    <tr>\n",
       "      <th>Customer_ID</th>\n",
       "      <th></th>\n",
       "      <th></th>\n",
       "      <th></th>\n",
       "      <th></th>\n",
       "    </tr>\n",
       "  </thead>\n",
       "  <tbody>\n",
       "    <tr>\n",
       "      <th>1050270</th>\n",
       "      <td>1409.0</td>\n",
       "      <td>407.02</td>\n",
       "      <td>Y</td>\n",
       "      <td>102</td>\n",
       "    </tr>\n",
       "    <tr>\n",
       "      <th>1020629</th>\n",
       "      <td>15284.0</td>\n",
       "      <td>2370.62</td>\n",
       "      <td>N</td>\n",
       "      <td>445</td>\n",
       "    </tr>\n",
       "    <tr>\n",
       "      <th>1020451</th>\n",
       "      <td>3604.0</td>\n",
       "      <td>662.42</td>\n",
       "      <td>Y</td>\n",
       "      <td>675</td>\n",
       "    </tr>\n",
       "  </tbody>\n",
       "</table>\n",
       "</div>"
      ],
      "text/plain": [
       "              totmou   totrev creditcd  eqpdays\n",
       "Customer_ID                                    \n",
       "1050270       1409.0   407.02        Y      102\n",
       "1020629      15284.0  2370.62        N      445\n",
       "1020451       3604.0   662.42        Y      675"
      ]
     },
     "execution_count": 21,
     "metadata": {},
     "output_type": "execute_result"
    }
   ],
   "source": [
    "sin_registros=df.index.isin(df3.index)\n",
    "df.iloc[~sin_registros,]"
   ]
  },
  {
   "cell_type": "markdown",
   "metadata": {},
   "source": [
    "### Ejercicio 3\n",
    "\n",
    "Realice una agrupación por la variable creditcd_x y encuentre el valor de la desviación estándar"
   ]
  },
  {
   "cell_type": "code",
   "execution_count": 22,
   "metadata": {
    "scrolled": true
   },
   "outputs": [
    {
     "data": {
      "text/html": [
       "<div>\n",
       "<style scoped>\n",
       "    .dataframe tbody tr th:only-of-type {\n",
       "        vertical-align: middle;\n",
       "    }\n",
       "\n",
       "    .dataframe tbody tr th {\n",
       "        vertical-align: top;\n",
       "    }\n",
       "\n",
       "    .dataframe thead th {\n",
       "        text-align: right;\n",
       "    }\n",
       "</style>\n",
       "<table border=\"1\" class=\"dataframe\">\n",
       "  <thead>\n",
       "    <tr style=\"text-align: right;\">\n",
       "      <th></th>\n",
       "      <th>totmou</th>\n",
       "      <th>totrev</th>\n",
       "      <th>eqpdays</th>\n",
       "      <th>custcare_Mean</th>\n",
       "    </tr>\n",
       "    <tr>\n",
       "      <th>creditcd_x</th>\n",
       "      <th></th>\n",
       "      <th></th>\n",
       "      <th></th>\n",
       "      <th></th>\n",
       "    </tr>\n",
       "  </thead>\n",
       "  <tbody>\n",
       "    <tr>\n",
       "      <th>N</th>\n",
       "      <td>8620.636954</td>\n",
       "      <td>876.554177</td>\n",
       "      <td>216.590187</td>\n",
       "      <td>5.385639</td>\n",
       "    </tr>\n",
       "    <tr>\n",
       "      <th>Y</th>\n",
       "      <td>8669.131910</td>\n",
       "      <td>849.495708</td>\n",
       "      <td>264.598823</td>\n",
       "      <td>6.064524</td>\n",
       "    </tr>\n",
       "  </tbody>\n",
       "</table>\n",
       "</div>"
      ],
      "text/plain": [
       "                 totmou      totrev     eqpdays  custcare_Mean\n",
       "creditcd_x                                                    \n",
       "N           8620.636954  876.554177  216.590187       5.385639\n",
       "Y           8669.131910  849.495708  264.598823       6.064524"
      ]
     },
     "execution_count": 22,
     "metadata": {},
     "output_type": "execute_result"
    }
   ],
   "source": [
    "df3.groupby(\"creditcd_x\").std()"
   ]
  },
  {
   "cell_type": "markdown",
   "metadata": {},
   "source": [
    "### Ejercicio 4\n",
    "\n",
    "\n",
    "Escriba el código para categorizar  el total de ingresos  baja, media y alta volatilidad, donde:\n",
    "\n",
    "`\n",
    "si totrev > (percentil 75 de totrev para el área dada):\n",
    "Nivel_totrev = 'Alto'\n",
    "o si VolStat > (percentil 25 de totrev para el área dada):\n",
    "Nivel_totrev  = 'Medio'\n",
    "de lo contrario:\n",
    "Nivel_totrev  = 'Bajo'`"
   ]
  },
  {
   "cell_type": "markdown",
   "metadata": {},
   "source": [
    "Creamos los percentiles 25 y 75"
   ]
  },
  {
   "cell_type": "code",
   "execution_count": 39,
   "metadata": {},
   "outputs": [],
   "source": [
    "p25_totrev = df3.groupby(\"area\")[\"totrev\"].quantile(0.25) \n",
    "p75_totrev = df3.groupby(\"area\")[\"totrev\"].quantile(0.75)"
   ]
  },
  {
   "cell_type": "markdown",
   "metadata": {},
   "source": [
    "Creamos las condiciones para marcar cada registro de acuerdo a lo criticos indicados en el ejercicio"
   ]
  },
  {
   "cell_type": "code",
   "execution_count": 40,
   "metadata": {
    "scrolled": false
   },
   "outputs": [
    {
     "name": "stdout",
     "output_type": "stream",
     "text": [
      "Etiqueta por área: ATLANTIC SOUTH AREA\n",
      "Etiqueta por área: CALIFORNIA NORTH AREA\n",
      "Etiqueta por área: CENTRAL-SOUTH TEXAS AREA\n",
      "Etiqueta por área: CHICAGO AREA\n",
      "Etiqueta por área: DALLAS AREA\n",
      "Etiqueta por área: DC-MARYLAND-VIRGINIA AREA\n",
      "Etiqueta por área: GREAT LAKES AREA\n",
      "Etiqueta por área: HOUSTON AREA\n",
      "Etiqueta por área: LOS ANGELES AREA\n",
      "Etiqueta por área: MIDWEST AREA\n",
      "Etiqueta por área: NEW ENGLAND AREA\n",
      "Etiqueta por área: NEW YORK CITY AREA\n",
      "Etiqueta por área: NORTH FLORIDA AREA\n",
      "Etiqueta por área: NORTHWEST-ROCKY MOUNTAIN AREA\n",
      "Etiqueta por área: OHIO AREA\n",
      "Etiqueta por área: PHILADELPHIA AREA\n",
      "Etiqueta por área: SOUTH FLORIDA AREA\n",
      "Etiqueta por área: SOUTHWEST AREA\n",
      "Etiqueta por área: TENNESSEE AREA\n"
     ]
    },
    {
     "data": {
      "text/html": [
       "<div>\n",
       "<style scoped>\n",
       "    .dataframe tbody tr th:only-of-type {\n",
       "        vertical-align: middle;\n",
       "    }\n",
       "\n",
       "    .dataframe tbody tr th {\n",
       "        vertical-align: top;\n",
       "    }\n",
       "\n",
       "    .dataframe thead th {\n",
       "        text-align: right;\n",
       "    }\n",
       "</style>\n",
       "<table border=\"1\" class=\"dataframe\">\n",
       "  <thead>\n",
       "    <tr style=\"text-align: right;\">\n",
       "      <th></th>\n",
       "      <th>totmou</th>\n",
       "      <th>totrev</th>\n",
       "      <th>creditcd_x</th>\n",
       "      <th>eqpdays</th>\n",
       "      <th>custcare_Mean</th>\n",
       "      <th>new_cell</th>\n",
       "      <th>area</th>\n",
       "      <th>creditcd_y</th>\n",
       "      <th>Nivel</th>\n",
       "    </tr>\n",
       "    <tr>\n",
       "      <th>Customer_ID</th>\n",
       "      <th></th>\n",
       "      <th></th>\n",
       "      <th></th>\n",
       "      <th></th>\n",
       "      <th></th>\n",
       "      <th></th>\n",
       "      <th></th>\n",
       "      <th></th>\n",
       "      <th></th>\n",
       "    </tr>\n",
       "  </thead>\n",
       "  <tbody>\n",
       "    <tr>\n",
       "      <th>1069232</th>\n",
       "      <td>13552.0</td>\n",
       "      <td>1172.25</td>\n",
       "      <td>N</td>\n",
       "      <td>83</td>\n",
       "      <td>3.666667</td>\n",
       "      <td>U</td>\n",
       "      <td>ATLANTIC SOUTH AREA</td>\n",
       "      <td>N</td>\n",
       "      <td>Alto</td>\n",
       "    </tr>\n",
       "    <tr>\n",
       "      <th>1043846</th>\n",
       "      <td>7294.0</td>\n",
       "      <td>1495.18</td>\n",
       "      <td>Y</td>\n",
       "      <td>460</td>\n",
       "      <td>0.000000</td>\n",
       "      <td>U</td>\n",
       "      <td>ATLANTIC SOUTH AREA</td>\n",
       "      <td>Y</td>\n",
       "      <td>Alto</td>\n",
       "    </tr>\n",
       "    <tr>\n",
       "      <th>1008539</th>\n",
       "      <td>4078.0</td>\n",
       "      <td>1257.05</td>\n",
       "      <td>Y</td>\n",
       "      <td>1019</td>\n",
       "      <td>0.000000</td>\n",
       "      <td>N</td>\n",
       "      <td>ATLANTIC SOUTH AREA</td>\n",
       "      <td>Y</td>\n",
       "      <td>Alto</td>\n",
       "    </tr>\n",
       "    <tr>\n",
       "      <th>1068315</th>\n",
       "      <td>5124.0</td>\n",
       "      <td>652.27</td>\n",
       "      <td>N</td>\n",
       "      <td>377</td>\n",
       "      <td>0.000000</td>\n",
       "      <td>U</td>\n",
       "      <td>ATLANTIC SOUTH AREA</td>\n",
       "      <td>N</td>\n",
       "      <td>Medio</td>\n",
       "    </tr>\n",
       "    <tr>\n",
       "      <th>1074220</th>\n",
       "      <td>6648.0</td>\n",
       "      <td>590.21</td>\n",
       "      <td>N</td>\n",
       "      <td>295</td>\n",
       "      <td>1.666667</td>\n",
       "      <td>U</td>\n",
       "      <td>ATLANTIC SOUTH AREA</td>\n",
       "      <td>N</td>\n",
       "      <td>Medio</td>\n",
       "    </tr>\n",
       "    <tr>\n",
       "      <th>...</th>\n",
       "      <td>...</td>\n",
       "      <td>...</td>\n",
       "      <td>...</td>\n",
       "      <td>...</td>\n",
       "      <td>...</td>\n",
       "      <td>...</td>\n",
       "      <td>...</td>\n",
       "      <td>...</td>\n",
       "      <td>...</td>\n",
       "    </tr>\n",
       "    <tr>\n",
       "      <th>1093180</th>\n",
       "      <td>7333.0</td>\n",
       "      <td>372.45</td>\n",
       "      <td>Y</td>\n",
       "      <td>229</td>\n",
       "      <td>3.000000</td>\n",
       "      <td>U</td>\n",
       "      <td>TENNESSEE AREA</td>\n",
       "      <td>Y</td>\n",
       "      <td>Bajo</td>\n",
       "    </tr>\n",
       "    <tr>\n",
       "      <th>1018795</th>\n",
       "      <td>4445.0</td>\n",
       "      <td>909.32</td>\n",
       "      <td>Y</td>\n",
       "      <td>692</td>\n",
       "      <td>0.000000</td>\n",
       "      <td>U</td>\n",
       "      <td>TENNESSEE AREA</td>\n",
       "      <td>Y</td>\n",
       "      <td>Medio</td>\n",
       "    </tr>\n",
       "    <tr>\n",
       "      <th>1055110</th>\n",
       "      <td>12871.0</td>\n",
       "      <td>899.95</td>\n",
       "      <td>N</td>\n",
       "      <td>18</td>\n",
       "      <td>9.666667</td>\n",
       "      <td>U</td>\n",
       "      <td>TENNESSEE AREA</td>\n",
       "      <td>N</td>\n",
       "      <td>Medio</td>\n",
       "    </tr>\n",
       "    <tr>\n",
       "      <th>1078247</th>\n",
       "      <td>1623.0</td>\n",
       "      <td>142.95</td>\n",
       "      <td>Y</td>\n",
       "      <td>166</td>\n",
       "      <td>0.333333</td>\n",
       "      <td>U</td>\n",
       "      <td>TENNESSEE AREA</td>\n",
       "      <td>Y</td>\n",
       "      <td>Bajo</td>\n",
       "    </tr>\n",
       "    <tr>\n",
       "      <th>1061746</th>\n",
       "      <td>3355.0</td>\n",
       "      <td>803.35</td>\n",
       "      <td>Y</td>\n",
       "      <td>418</td>\n",
       "      <td>0.000000</td>\n",
       "      <td>U</td>\n",
       "      <td>TENNESSEE AREA</td>\n",
       "      <td>Y</td>\n",
       "      <td>Medio</td>\n",
       "    </tr>\n",
       "  </tbody>\n",
       "</table>\n",
       "<p>9997 rows × 9 columns</p>\n",
       "</div>"
      ],
      "text/plain": [
       "              totmou   totrev creditcd_x  eqpdays  custcare_Mean new_cell  \\\n",
       "Customer_ID                                                                 \n",
       "1069232      13552.0  1172.25          N       83       3.666667        U   \n",
       "1043846       7294.0  1495.18          Y      460       0.000000        U   \n",
       "1008539       4078.0  1257.05          Y     1019       0.000000        N   \n",
       "1068315       5124.0   652.27          N      377       0.000000        U   \n",
       "1074220       6648.0   590.21          N      295       1.666667        U   \n",
       "...              ...      ...        ...      ...            ...      ...   \n",
       "1093180       7333.0   372.45          Y      229       3.000000        U   \n",
       "1018795       4445.0   909.32          Y      692       0.000000        U   \n",
       "1055110      12871.0   899.95          N       18       9.666667        U   \n",
       "1078247       1623.0   142.95          Y      166       0.333333        U   \n",
       "1061746       3355.0   803.35          Y      418       0.000000        U   \n",
       "\n",
       "                            area creditcd_y  Nivel  \n",
       "Customer_ID                                         \n",
       "1069232      ATLANTIC SOUTH AREA          N   Alto  \n",
       "1043846      ATLANTIC SOUTH AREA          Y   Alto  \n",
       "1008539      ATLANTIC SOUTH AREA          Y   Alto  \n",
       "1068315      ATLANTIC SOUTH AREA          N  Medio  \n",
       "1074220      ATLANTIC SOUTH AREA          N  Medio  \n",
       "...                          ...        ...    ...  \n",
       "1093180           TENNESSEE AREA          Y   Bajo  \n",
       "1018795           TENNESSEE AREA          Y  Medio  \n",
       "1055110           TENNESSEE AREA          N  Medio  \n",
       "1078247           TENNESSEE AREA          Y   Bajo  \n",
       "1061746           TENNESSEE AREA          Y  Medio  \n",
       "\n",
       "[9997 rows x 9 columns]"
      ]
     },
     "execution_count": 40,
     "metadata": {},
     "output_type": "execute_result"
    }
   ],
   "source": [
    "areas = ['ATLANTIC SOUTH AREA',\n",
    " 'CALIFORNIA NORTH AREA',\n",
    " 'CENTRAL-SOUTH TEXAS AREA',\n",
    " 'CHICAGO AREA',\n",
    " 'DALLAS AREA',\n",
    " 'DC-MARYLAND-VIRGINIA AREA',\n",
    " 'GREAT LAKES AREA',\n",
    " 'HOUSTON AREA',\n",
    " 'LOS ANGELES AREA',\n",
    " 'MIDWEST AREA',\n",
    " 'NEW ENGLAND AREA',\n",
    " 'NEW YORK CITY AREA',\n",
    " 'NORTH FLORIDA AREA',\n",
    " 'NORTHWEST-ROCKY MOUNTAIN AREA',\n",
    " 'OHIO AREA',\n",
    " 'PHILADELPHIA AREA',\n",
    " 'SOUTH FLORIDA AREA',\n",
    " 'SOUTHWEST AREA',\n",
    " 'TENNESSEE AREA'] # registro de las áreas\n",
    "lista_df = []\n",
    "# ciclo sobre todos los símbolos\n",
    "for i in areas:\n",
    "    print(\"Etiqueta por área: \" + i)\n",
    "    temp_df = df3[df3[\"area\"] == i] .copy()\n",
    "    umbral_punto1 = p25_totrev.loc[i]\n",
    "    umbral_punto2 = p75_totrev.loc[i]\n",
    "    lv=[]\n",
    "    for i in temp_df['totrev']:\n",
    "        if i<umbral_punto1:\n",
    "            lv.append('Bajo')\n",
    "        elif i<umbral_punto2:\n",
    "            lv.append('Medio')\n",
    "        else:\n",
    "            lv.append('Alto')\n",
    "    temp_df['Nivel']=lv\n",
    "    lista_df.append(temp_df)\n",
    "df_con_etiquetas = pd.concat(lista_df)\n",
    "df_con_etiquetas"
   ]
  },
  {
   "cell_type": "markdown",
   "metadata": {},
   "source": [
    "### Ejercicio 5\n",
    "\n",
    "Realice un  boxplot para la variable totmou segmentado por las variable  credict_x y Nivel_totrev"
   ]
  },
  {
   "cell_type": "code",
   "execution_count": 43,
   "metadata": {},
   "outputs": [
    {
     "data": {
      "image/png": "[encoded data removed]",
      "text/plain": [
       "<Figure size 432x288 with 1 Axes>"
      ]
     },
     "metadata": {
      "needs_background": "light"
     },
     "output_type": "display_data"
    }
   ],
   "source": [
    "plt.figure(figsize=(6,4))\n",
    "sns.boxplot(x='Nivel',y='totmou',data=df_con_etiquetas)\n",
    "plt.title('Boxplot múltiple para Nivel de ingresos totales y \\n total de minutos gastados')\n",
    "plt.show()"
   ]
  },
  {
   "cell_type": "code",
   "execution_count": null,
   "metadata": {},
   "outputs": [],
   "source": []
  }
 ],
 "metadata": {
  "kernelspec": {
   "display_name": "Python 3",
   "language": "python",
   "name": "python3"
  },
  "language_info": {
   "codemirror_mode": {
    "name": "ipython",
    "version": 3
   },
   "file_extension": ".py",
   "mimetype": "text/x-python",
   "name": "python",
   "nbconvert_exporter": "python",
   "pygments_lexer": "ipython3",
   "version": "3.8.5"
  }
 },
 "nbformat": 4,
 "nbformat_minor": 4
}
